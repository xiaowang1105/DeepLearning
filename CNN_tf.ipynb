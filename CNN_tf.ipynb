{
 "cells": [
  {
   "cell_type": "markdown",
   "metadata": {
    "collapsed": true
   },
   "source": [
    "<font color=#FF0000 size=4 face=\"黑体\">Package import</font>"
   ]
  },
  {
   "cell_type": "code",
   "execution_count": null,
   "metadata": {
    "collapsed": true
   },
   "outputs": [],
   "source": [
    "from __future__ import print_function, division\n",
    "from builtins import range\n",
    "\n",
    "import Ipynb_importer\n",
    "\n",
    "import numpy as np\n",
    "import tensorflow as tf\n",
    "import matplotlib.pyplot as plt\n",
    "\n",
    "from datetime import datetime\n",
    "from scipy.signal import convolve2d\n",
    "from scipy.io import loadmat\n",
    "from sklearn.utils import shuffle"
   ]
  },
  {
   "cell_type": "code",
   "execution_count": null,
   "metadata": {
    "collapsed": true
   },
   "outputs": [],
   "source": [
    "import Optimization_Methods\n",
    "import Tensorflow_NN"
   ]
  },
  {
   "cell_type": "markdown",
   "metadata": {},
   "source": [
    "<font color=#FF0000 size=4 face=\"黑体\">Predefine functions</font>"
   ]
  },
  {
   "cell_type": "code",
   "execution_count": null,
   "metadata": {
    "collapsed": true
   },
   "outputs": [],
   "source": [
    "# get data\n",
    "def get_data():\n",
    "    if not os.path('../large_files/extra_32x32.mat')\n",
    "        print('Looking for ../large_files/extra_32x32.mat')\n",
    "        print('Sir, you put the data in the wrong location')\n",
    "        print('Place train_32x32.mat and test_32x32.mat in the folder large_files adjacent to the class folder')\n",
    "        exit()\n",
    "    \n",
    "    train = loadmat('../large_files/train_32x32.mat')\n",
    "    test = loadmat('../large_files/test_32x32.mat')\n",
    "    return train, test\n",
    "    \n",
    "\n",
    "# one hot matrix\n",
    "def one_hot_matrix(labels, C):\n",
    "    \"\"\"\n",
    "    labels -- vectors that containing labels\n",
    "    C -- number of classes, the depth of one hot dimension\n",
    "    \"\"\"\n",
    "    C = tf.constant(C, name = \"C\")\n",
    "    one_hot_matrix = tf.one_hot(indices = labels, depth = C, axis = 0)\n",
    "    with tf.Session() as session:\n",
    "        one_hot = sesssion.run(one_hot_matrix)\n",
    "    \n",
    "    return one_hot\n",
    "\n",
    "# flatten X\n",
    "def flatten(X):\n",
    "    \"\"\"\n",
    "    X -- input of the image with the size of (num_px, num_py, 3, m)\n",
    "    \"\"\"\n",
    "    m = X.shape[-1]\n",
    "    num_px = X.shape[0]\n",
    "    num_py = X.shape[1]\n",
    "    flat = np.zeros((m, 3 * num_px * num_py))\n",
    "    for i in range(m)<font color=#FF0000 size=4 face=\"黑体\">Predefine functions</font> :, :, i].reshape(3 * num_px * num_py)\n",
    "    \n",
    "    return flat\n",
    "\n",
    "# error rate calculation\n",
    "def error_r<font color=#FF0000 size=4 face=\"黑体\">Convolution + activation + pooling</font>ate(p, t):\n",
    "    return np.mean(p != t)\n",
    "\n",
    "# rearrange function\n",
    "def rearrange(X):\n",
    "    \n",
    "    \"\"\"\n",
    "    X -- input with the shape of (num_px, num_py, 3, m)\n",
    "    Return:\n",
    "    X_arrange -- (m, num_px, num_py, 3)\n",
    "    \"\"\"\n",
    "    X_arrange = (X.transpose(3, 0, 1, 2) / 255).astype(np.float32)\n",
    "    return X_arrange"
   ]
  },
  {
   "cell_type": "markdown",
   "metadata": {},
   "source": [
    "<font color=#FF0000 size=4 face=\"黑体\">Initialization</font>"
   ]
  },
  {
   "cell_type": "code",
   "execution_count": 1,
   "metadata": {
    "collapsed": true
   },
   "outputs": [],
   "source": [
    "def init_filter(shape, poolsz):\n",
    "    \"\"\"\n",
    "    shape -- (filter_width, filter_height, num_color_channels, num_feature_maps)\n",
    "    poolsz -- size of pooling with the shape of (width, height)\n",
    "    \"\"\"\n",
    "    w = np.random.randn(*shape) / np.sqrt(np.prod(shape[:-1]) + shape[-1]*np.prod(shape[:-2] / np.prod(poolsz)))\n",
    "    b = np.zeros(shape[-1], dtype  = np.float32)\n",
    "    \n",
    "    return {\"w\": w.astype(np.float32),\n",
    "           \"b\": b.astype(np.float32)}"
   ]
  },
  {
   "cell_type": "markdown",
   "metadata": {},
   "source": [
    "<font color=#FF0000 size=4 face=\"黑体\">Convolution + activation + pooling</font>"
   ]
  },
  {
   "cell_type": "code",
   "execution_count": null,
   "metadata": {
    "collapsed": true
   },
   "outputs": [],
   "source": [
    "def convpool(X, W, b, strides_conv = [1, 1, 1, 1], ksize = [1, 2, 2, 1], strides_pool = [1, 2, 2, 1]):\n",
    "    \"\"\"\n",
    "    X -- a tensor with shape of [batch, in_height, in_width, in_channels]\n",
    "    W -- a filter with shape of [filter_height, filter_width, in_channels, out_channels]\n",
    "    strides -- contain steps in four dimension\n",
    "    ksize -- the size of pooling [batch, height, width, channels]\n",
    "    \n",
    "    \n",
    "    Return:\n",
    "    after_relu -- relu operator following pooling operation\n",
    "    \"\"\"\n",
    "    conv_out = tf.nn.conv2d(X, W, strides = strides_conv, padding = 'SAME')\n",
    "    conv_out = tf.nn.bias_add(conv_out, b)\n",
    "    pool_out = tf.nn.max_pool(conv_out, ksize = ksize, strides = strides_pool)\n",
    "    \n",
    "    return tf.nn.relu(pool_out)"
   ]
  },
  {
   "cell_type": "markdown",
   "metadata": {},
   "source": [
    "<font color=#FF0000 size=4 face=\"黑体\">CNN model not connected to FLs</font>"
   ]
  },
  {
   "cell_type": "code",
   "execution_count": null,
   "metadata": {
    "collapsed": true
   },
   "outputs": [],
   "source": [
    "def pre_CNN(X):\n",
    "    \"\"\"\n",
    "    Returns:\n",
    "    parameters -- parameters can be used in fully connected layers\n",
    "    \"\"\"\n",
    "    ops.reset_default_graph() \n",
    "    \n",
    "    W1_shape = (5, 5, 3, 20) # (filter_width, filter_height, num_color_channels, num_feature_maps)\n",
    "    W1_init = init_filter(W1_shape, poolsz)[\"w\"]\n",
    "    b1_init = init_filter(W1_shape, poolsz)[\"b\"]\n",
    "\n",
    "    W2_shape = (5, 5, 20, 50) # (filter_width, filter_height, num_color_channels, num_feature_maps)\n",
    "    W2_init = init_filter(W2_shape, poolsz)[\"w\"]\n",
    "    b2_init = init_filter(W2_shape, poolsz)[\"b\"]\n",
    "\n",
    "    W1 = tf.Variable(W1_init.astype(np.float32))\n",
    "    b1 = tf.Variable(b1_init.astype(np.float32))\n",
    "    W2 = tf.Variable(W2_init.astype(np.float32))\n",
    "    b2 = tf.Variable(b2_init.astype(np.float32))\n",
    "\n",
    "    Z1 = convpool(X, W1, b1, strides_conv = [1, 1, 1, 1], ksize = [1, 2, 2, 1], strides_pool = [1, 2, 2, 1])\n",
    "    Z2 = convpool(Z1, W2, b2, strides_conv = [1, 1, 1, 1], ksize = [1, 2, 2, 1], strides_pool = [1, 2, 2, 1])\n",
    "    \n",
    "    Z2_shape = Z2.get_shape().as_list()\n",
    "    Z2r = tf.reshape(Z2, [Z2_shape[0], np.prod(Z2_shape[1:])])\n",
    "    \n",
    "    return Z2r"
   ]
  },
  {
   "cell_type": "markdown",
   "metadata": {},
   "source": [
    "<font color=#FF0000 size=4 face=\"黑体\">merging_CNN</font>"
   ]
  },
  {
   "cell_type": "code",
   "execution_count": null,
   "metadata": {
    "collapsed": true
   },
   "outputs": [],
   "source": [
    "def cnn_model(X_train, Y_train, X_test, Y_test, learning_rate = 0.0001, num_epochs = 1500, minibatch_size = 32, print_cost = True):\n",
    "    \n",
    "    ops.reset_default_graph() # to be able to rerun the model without overwirting tf variables\n",
    "    (n_x, m) = X_train.shape\n",
    "    n_y = Y_train.shape[0]\n",
    "    costs = []\n",
    "    \n",
    "    X, Y = Tensorflow_NN.create_placeholders(n_x, n_y)\n",
    "    parameters = Tensorflow_NN.initialize_parameters(layer_dims)\n",
    "    \n",
    "    Z2 = pre_CNN(X)\n",
    "    ZL = Tensorflow_NN.forward_propagation(X, parameters)\n",
    "    cost = Tensorflow_NN.compute_cost(Z2, Y)\n",
    "    optimizer = tf.train.AdamOptimizer(learning_rate = learning_rate).minimize(cost)\n",
    "    \n",
    "    init = tf.global_variables_initializer()\n",
    "    \n",
    "    with tf.Session() as sess:\n",
    "        sess.run(init)\n",
    "        \n",
    "        for epoch in range(num_epochs):\n",
    "            epoch_cost = 0\n",
    "            num_minibatches = int(m / minibatch_size)\n",
    "            minibatches  = random_mini_batches(X_train, Y_train, minibatch_size)\n",
    "            \n",
    "            for minibatch in minibatches:\n",
    "                (minibatch_X, minibatch_Y) = minibatch\n",
    "                _, minibatch_cost = sess.run([optimizer, cost], feel_dict = {X: minibatch_X, Y: minibatch_Y})\n",
    "                epoch_cost += minibatch_cost/num_minibatches\n",
    "                \n",
    "            if(print_cost == True and epoch % 100 == 0):\n",
    "                    print(\"Cost after epoch %i: %f\" % (epoch, epoch_cost))\n",
    "            if(print_cost == True and epoch % 5 ==0):\n",
    "                    costs.append(epoch_cost)\n",
    "        # plot\n",
    "        plt.plot(np.squeeze(costs))\n",
    "        plt.ylabel('cost')\n",
    "        plt.xlabel('iterations (per tens)')\n",
    "        plt.title(\"Learning rate\" + str(learning_rate))\n",
    "        plt.show()\n",
    "\n",
    "        # lets save the parameters in a variable\n",
    "        parameters = sess.run(parameters)\n",
    "        print(\"Parameters have been trained!\")\n",
    "        # calculate accuracy on correct predictions\n",
    "        correct_prediction = tf.equal(tf.argmax(ZL), tf.argmax(Y))\n",
    "        \n",
    "        # calculate the accuracy on the test set\n",
    "        accuracy = tf.reduce_mean(tf.cast(correct_prediction, \"float\"))\n",
    "\n",
    "        print(\"Traning accuracy:\", accuracy.eval({X: X_train, Y: Y_train}))\n",
    "        print(\"Traning accuracy:\", accuracy.eval({X: X_test, Y: Y_test}))\n",
    "    \n",
    "        return parameters"
   ]
  }
 ],
 "metadata": {
  "kernelspec": {
   "display_name": "Python 3",
   "language": "python",
   "name": "python3"
  },
  "language_info": {
   "codemirror_mode": {
    "name": "ipython",
    "version": 3
   },
   "file_extension": ".py",
   "mimetype": "text/x-python",
   "name": "python",
   "nbconvert_exporter": "python",
   "pygments_lexer": "ipython3",
   "version": "3.6.1"
  }
 },
 "nbformat": 4,
 "nbformat_minor": 2
}
