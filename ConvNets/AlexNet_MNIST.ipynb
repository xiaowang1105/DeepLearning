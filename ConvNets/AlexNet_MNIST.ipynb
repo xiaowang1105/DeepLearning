{
 "cells": [
  {
   "cell_type": "markdown",
   "metadata": {},
   "source": [
    "## 0 - AlexNet Walkthrough\n",
    "- This document uses AlexNet for MNIST\n",
    "- You can find the original article on this website: https://papers.nips.cc/paper/4824-imagenet-classification-with-deep-convolutional-neural-networks.pdf"
   ]
  },
  {
   "cell_type": "code",
   "execution_count": 1,
   "metadata": {
    "collapsed": true
   },
   "outputs": [],
   "source": [
    "import tensorflow as tf"
   ]
  },
  {
   "cell_type": "markdown",
   "metadata": {},
   "source": [
    "## 1 - Import Data from Tensorflow Package"
   ]
  },
  {
   "cell_type": "code",
   "execution_count": 2,
   "metadata": {},
   "outputs": [
    {
     "name": "stdout",
     "output_type": "stream",
     "text": [
      "Successfully downloaded train-images-idx3-ubyte.gz 9912422 bytes.\n",
      "Extracting /tmp/data/train-images-idx3-ubyte.gz\n",
      "Successfully downloaded train-labels-idx1-ubyte.gz 28881 bytes.\n",
      "Extracting /tmp/data/train-labels-idx1-ubyte.gz\n",
      "Successfully downloaded t10k-images-idx3-ubyte.gz 1648877 bytes.\n",
      "Extracting /tmp/data/t10k-images-idx3-ubyte.gz\n",
      "Successfully downloaded t10k-labels-idx1-ubyte.gz 4542 bytes.\n",
      "Extracting /tmp/data/t10k-labels-idx1-ubyte.gz\n"
     ]
    }
   ],
   "source": [
    "# import data from examples in tensorflow package\n",
    "from tensorflow.examples.tutorials.mnist import input_data\n",
    "mnist = input_data.read_data_sets(\"/tmp/data/\", one_hot = True)"
   ]
  },
  {
   "cell_type": "markdown",
   "metadata": {},
   "source": [
    "## 2 - Setting of Hyperparameters"
   ]
  },
  {
   "cell_type": "code",
   "execution_count": 74,
   "metadata": {
    "collapsed": true
   },
   "outputs": [],
   "source": [
    "# hyperparameters\n",
    "learning_rate = 0.0001\n",
    "training_iters = 200000\n",
    "batch_size = 128\n",
    "display_step = 100\n",
    "\n",
    "# network parameters\n",
    "n_input = 784 # input dimension\n",
    "n_classes = 10 # number of classes\n",
    "dropout = 0.75 # dropout rate"
   ]
  },
  {
   "cell_type": "markdown",
   "metadata": {},
   "source": [
    "## 3 -  Create Placeholder"
   ]
  },
  {
   "cell_type": "code",
   "execution_count": 75,
   "metadata": {
    "collapsed": true
   },
   "outputs": [],
   "source": [
    "# create palceholder\n",
    "x = tf.placeholder(tf.float32, [None, n_input])\n",
    "y = tf.placeholder(tf.float32, [None, n_classes])\n",
    "keep_prob = tf.placeholder(tf.float32) # dropout"
   ]
  },
  {
   "cell_type": "markdown",
   "metadata": {},
   "source": [
    "## 4 -  Pooling and Conv2d Definition"
   ]
  },
  {
   "cell_type": "code",
   "execution_count": 76,
   "metadata": {
    "collapsed": true
   },
   "outputs": [],
   "source": [
    "# def convNet\n",
    "def conv2d(name, x, W, b, strides = 1):\n",
    "    x = tf.nn.conv2d(x, W, strides = [1, strides, strides, 1], padding = 'SAME')\n",
    "    x = tf.nn.bias_add(x, b)\n",
    "    return tf.nn.relu(x, name = name)\n",
    "\n",
    "# def pooling\n",
    "def maxpool2d(name, x, k = 2):\n",
    "    return tf.nn.max_pool(x, ksize = [1, k, k, 1], strides = [1, k, k, 1], padding = 'SAME', name = name)\n",
    "\n",
    "# def normalization\n",
    "def norm(name, l_input, lsize = 4):\n",
    "    return tf.nn.lrn(l_input, lsize, bias = 1.0, alpha = 0.001 / 9.0, beta = 0.75, name = name)\n",
    "# sqr_sum[a, b, c, d] = sum(input[a, b, c, d - depth_radius : d + depth_radius + 1] ** 2) output = input / (bias + alpha * sqr_sum) ** beta"
   ]
  },
  {
   "cell_type": "markdown",
   "metadata": {},
   "source": [
    "## 5 - Variables Setting"
   ]
  },
  {
   "cell_type": "code",
   "execution_count": 77,
   "metadata": {
    "collapsed": true
   },
   "outputs": [],
   "source": [
    "# define network parameters\n",
    "weights = {\n",
    "    'wc1': tf.Variable(tf.random_normal([11, 11, 1, 96])),\n",
    "    'wc2': tf.Variable(tf.random_normal([5, 5, 96, 256])),\n",
    "    'wc3': tf.Variable(tf.random_normal([3, 3, 256, 384])),\n",
    "    'wc4': tf.Variable(tf.random_normal([3, 3, 384, 384])),\n",
    "    'wc5': tf.Variable(tf.random_normal([3, 3, 384, 256])),\n",
    "    'wd1': tf.Variable(tf.random_normal([4*4*256, 4096])),\n",
    "    'wd2': tf.Variable(tf.random_normal([4096, 4096])),\n",
    "    'out': tf.Variable(tf.random_normal([4096, 10]))\n",
    "}\n",
    "biases = {\n",
    "    'bc1': tf.Variable(tf.random_normal([96])),\n",
    "    'bc2': tf.Variable(tf.random_normal([256])),\n",
    "    'bc3': tf.Variable(tf.random_normal([384])),\n",
    "    'bc4': tf.Variable(tf.random_normal([384])),\n",
    "    'bc5': tf.Variable(tf.random_normal([256])),\n",
    "    'bd1': tf.Variable(tf.random_normal([4096])),\n",
    "    'bd2': tf.Variable(tf.random_normal([4096])),\n",
    "    'out': tf.Variable(tf.random_normal([n_classes]))\n",
    "}"
   ]
  },
  {
   "cell_type": "markdown",
   "metadata": {},
   "source": [
    "## 6 - Model Definition"
   ]
  },
  {
   "cell_type": "code",
   "execution_count": 78,
   "metadata": {
    "collapsed": true
   },
   "outputs": [],
   "source": [
    "# define model\n",
    "def alex_net(x, weights, biases, dropout):\n",
    "    # reshape the input\n",
    "    x = tf.reshape(x, shape = [-1, 28, 28, 1])\n",
    "    \n",
    "    \n",
    "    # first three layers\n",
    "    conv1 = conv2d('conv1', x, weights['wc1'], biases['bc1'])\n",
    "    pool1 = maxpool2d('pool1', conv1, k = 2)\n",
    "    norm1 = norm('norm1', pool1, lsize = 4)\n",
    "    conv2 = conv2d('conv2', norm1, weights['wc2'], biases['bc2'])\n",
    "    pool2 = maxpool2d('pool2', conv2, k = 2)\n",
    "    norm2 = norm('norm2', pool2, lsize = 4)\n",
    "    conv3 = conv2d('conv3', norm2, weights['wc3'], biases['bc3'])\n",
    "    pool3 = maxpool2d('pool3', conv3, k = 2)\n",
    "    norm3 = norm('norm3', pool3, lsize = 4)\n",
    "    \n",
    "    # fourth layer\n",
    "    conv4 = conv2d('conv4', norm3, weights['wc4'], biases['bc4'])\n",
    "    \n",
    "    # fifth layer\n",
    "    conv5 = conv2d('conv5', conv4, weights['wc5'], biases['bc5'])\n",
    "    pool5 = maxpool2d('pool5', conv5, k = 2)\n",
    "    norm5 = norm('norm5', pool5, lsize = 4)\n",
    "    \n",
    "    # 1st full connected layer\n",
    "    fc1 = tf.reshape(norm5, [-1, weights['wd1'].get_shape().as_list()[0]])\n",
    "    fc1 = tf.add(tf.matmul(fc1, weights['wd1']), biases['bd1'])\n",
    "    fc1 = tf.nn.relu(fc1)\n",
    "    fc1 = tf.nn.dropout(fc1, dropout)\n",
    "    \n",
    "    # 2nd full connected layer\n",
    "    fc2 = tf.reshape(fc1, [-1, weights['wd2'].get_shape().as_list()[0]])\n",
    "    fc2 = tf.add(tf.matmul(fc2, weights['wd2']), biases['bd2'])\n",
    "    fc2 = tf.nn.relu(fc2)\n",
    "    fc2 = tf.nn.dropout(fc2, dropout)\n",
    "    \n",
    "    out = tf.add(tf.matmul(fc2, weights['out']), biases['out'])\n",
    "    return out"
   ]
  },
  {
   "cell_type": "code",
   "execution_count": null,
   "metadata": {
    "collapsed": true
   },
   "outputs": [],
   "source": [
    "# optimizer and loss function\n",
    "pred = alex_net(x, weights, biases, keep_prob)\n",
    "logits = tf.transpose(pred)\n",
    "labels = tf.transpose(y)\n",
    "cost = tf.reduce_mean(tf.nn.softmax_cross_entropy_with_logits(logits = logits, labels = labels))\n",
    "optimizer = tf.train.AdamOptimizer(learning_rate = learning_rate).minimize(cost)\n",
    "\n",
    "correct_pred = tf.equal(tf.argmax(pred, 1), tf.argmax(y, 1))\n",
    "accuracy  = tf.reduce_mean(tf.cast(correct_pred, tf.float32))"
   ]
  },
  {
   "cell_type": "code",
   "execution_count": null,
   "metadata": {
    "collapsed": true,
    "scrolled": false
   },
   "outputs": [],
   "source": [
    "# running\n",
    "init = tf.global_variables_initializer()\n",
    "\n",
    "with tf.Session() as sess:\n",
    "    sess.run(init)\n",
    "    step = 1\n",
    "    while step * batch_size < training_iters:\n",
    "        batch_x, batch_y = mnist.train.next_batch(batch_size)\n",
    "        sess.run(optimizer, feed_dict = {x: batch_x, y: batch_y, keep_prob: dropout})\n",
    "        if (step % display_step == 0):\n",
    "            loss, acc = sess.run([cost, accuracy], feed_dict = {x: batch_x, y: batch_y, keep_prob: 1.})\n",
    "            print(\"Iter\" + str(step * batch_size) + \", Minibatch Loss = \" + \"{: .6f}\".format(loss) + \", Training Accuracy = \" + \"{:.5f}\".format(acc))\n",
    "        step = step + 1\n",
    "    print(\"Finished!\")\n",
    "    print(\"Testing Accuracy:\", sess.run(accuracy, feed_dict = {x: mini.test.images[:256], y: mini.test.labels[:256], keep_prob: 1.}))"
   ]
  },
  {
   "cell_type": "code",
   "execution_count": null,
   "metadata": {
    "collapsed": true
   },
   "outputs": [],
   "source": []
  }
 ],
 "metadata": {
  "kernelspec": {
   "display_name": "Python 3",
   "language": "python",
   "name": "python3"
  },
  "language_info": {
   "codemirror_mode": {
    "name": "ipython",
    "version": 3
   },
   "file_extension": ".py",
   "mimetype": "text/x-python",
   "name": "python",
   "nbconvert_exporter": "python",
   "pygments_lexer": "ipython3",
   "version": "3.6.1"
  }
 },
 "nbformat": 4,
 "nbformat_minor": 2
}
